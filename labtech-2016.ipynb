{
 "cells": [
  {
   "cell_type": "markdown",
   "metadata": {},
   "source": [
    "# <center>On Demand Analytics with Jupyter Notebook in an HPC Environment</center>\n",
    "\n",
    "**<center>[Yong Qin, Ph.D.](mailto:yong.qin@lbl.gov)</center>**\n",
    "\n",
    "<center>High Performance Computing Services (HPCS)<br>Information Technology Division<br>Lawrence Berkeley National Laboratory</center>\n",
    "\n",
    "<center>LabTech - October 11, 2016 </center>\n",
    "\n",
    "<img src=\"IT_Lab_Logo.png\" width=\"220px\">\n",
    "<img src=\"jupyter-logo.png\" width=\"250px\">\n",
    "<img src=\"ipython-logo.png\" width=\"250px\">"
   ]
  },
  {
   "cell_type": "markdown",
   "metadata": {},
   "source": [
    "## 1. On Demand Analytics Solutions\n",
    "\n",
    "<img src=\"OD_Architecture.png\" width=\"600px\"/>"
   ]
  },
  {
   "cell_type": "markdown",
   "metadata": {},
   "source": [
    "## 2. Jupyter Introduction\n",
    "\n",
    "\"Open source, interactive data science and scientific computing across over 40 programming languages.\"\n",
    "\n",
    "* Notebook, prototyping, POC\n",
    "* Teaching, tutorial, instruction\n",
    "* Online publication\n",
    "* Reproducible research\n",
    "* (Big) Data analytics\n",
    "* A new paradigm for HPC"
   ]
  },
  {
   "cell_type": "markdown",
   "metadata": {},
   "source": [
    "## 3. Jupyter Notebook Basics\n",
    "\n",
    "* Markdown language\n",
    "\n",
    "* Math\n",
    "  + This expression $\\sqrt{3x-1}+(1+x)^2$ is an example of a $\\LaTeX$ inline equation.\n",
    "  + This is a standalone example (Maxwell's equation).\n",
    "\\begin{align}\n",
    "\\nabla \\times \\vec{\\mathbf{B}} -\\, \\frac1c\\, \\frac{\\partial\\vec{\\mathbf{E}}}{\\partial t} & = \\frac{4\\pi}{c}\\vec{\\mathbf{j}} \\\\   \\nabla \\cdot \\vec{\\mathbf{E}} & = 4 \\pi \\rho \\\\\n",
    "\\nabla \\times \\vec{\\mathbf{E}}\\, +\\, \\frac1c\\, \\frac{\\partial\\vec{\\mathbf{B}}}{\\partial t} & = \\vec{\\mathbf{0}} \\\\\n",
    "\\nabla \\cdot \\vec{\\mathbf{B}} & = 0\n",
    "\\end{align}\n",
    "\n",
    "* Code\n",
    "        if (i=0; i<4; i++) {\n",
    "            printf(\"Hello World!\\n\");\n",
    "        }\n",
    "\n",
    "* Table\n",
    "<pre>\n",
    "\n",
    "| This | is   |\n",
    "|------|------|\n",
    "|   a  | table|\n",
    "\n",
    "</pre>\n",
    "\n",
    "* Image\n",
    "![](jupyter-logo.png)"
   ]
  },
  {
   "cell_type": "markdown",
   "metadata": {},
   "source": [
    "* Multimedia"
   ]
  },
  {
   "cell_type": "code",
   "execution_count": null,
   "metadata": {
    "collapsed": false
   },
   "outputs": [],
   "source": [
    "from IPython.display import YouTubeVideo\n",
    "# Jupyter Notebook Tutorial from Corey Schafer\n",
    "YouTubeVideo('HW29067qVWk')"
   ]
  },
  {
   "cell_type": "markdown",
   "metadata": {},
   "source": [
    "* Coding"
   ]
  },
  {
   "cell_type": "code",
   "execution_count": null,
   "metadata": {
    "collapsed": false
   },
   "outputs": [],
   "source": [
    "print(\"Hello World\")\n",
    "a=3\n",
    "b=a**3\n",
    "print(b)"
   ]
  },
  {
   "cell_type": "markdown",
   "metadata": {},
   "source": [
    "* Plotting"
   ]
  },
  {
   "cell_type": "code",
   "execution_count": null,
   "metadata": {
    "collapsed": false
   },
   "outputs": [],
   "source": [
    "%matplotlib inline\n",
    "import matplotlib.pyplot as plt\n",
    "import numpy as np\n",
    "x = np.linspace(0, 3*np.pi, 500)\n",
    "plt.plot(x, np.sin(x**0.5))\n",
    "plt.title('A simple chirp')"
   ]
  },
  {
   "cell_type": "code",
   "execution_count": null,
   "metadata": {
    "collapsed": false
   },
   "outputs": [],
   "source": [
    "%load http://matplotlib.org/mpl_examples/showcase/integral_demo.py"
   ]
  },
  {
   "cell_type": "markdown",
   "metadata": {},
   "source": [
    "* Magics"
   ]
  },
  {
   "cell_type": "code",
   "execution_count": null,
   "metadata": {
    "collapsed": false
   },
   "outputs": [],
   "source": [
    "%lsmagic"
   ]
  },
  {
   "cell_type": "code",
   "execution_count": null,
   "metadata": {
    "collapsed": false,
    "scrolled": true
   },
   "outputs": [],
   "source": [
    "%ls"
   ]
  },
  {
   "cell_type": "code",
   "execution_count": null,
   "metadata": {
    "collapsed": false
   },
   "outputs": [],
   "source": [
    "%ll"
   ]
  },
  {
   "cell_type": "code",
   "execution_count": null,
   "metadata": {
    "collapsed": false
   },
   "outputs": [],
   "source": [
    "%%bash\n",
    "date"
   ]
  },
  {
   "cell_type": "code",
   "execution_count": null,
   "metadata": {
    "collapsed": false
   },
   "outputs": [],
   "source": [
    "%%perl\n",
    "print(\"Hello World!\\n\");\n",
    "system(\"hostname\");"
   ]
  },
  {
   "cell_type": "markdown",
   "metadata": {},
   "source": [
    "## 4. Jupyter Notebook on LRC\n",
    "\n",
    "* LRC Architecture\n",
    "<img src=\"LRC_Architecture.png\" width=\"800px\"/>\n",
    "\n",
    "* [Login (via JupyterHub): https://lrc-jupyter.lbl.gov](https://lrc-jupyter.lbl.gov) (need to accept the temporary certificate)\n",
    "<img src=\"Login.png\" width=\"300px\">\n",
    "\n",
    "* Start the Jupyter Server\n",
    "<img src=\"Start.png\" width=\"300px\">\n",
    "\n",
    "* Choose where to spawn the Jupyter Server\n",
    "<img src=\"Spawner.png\" width=\"700px\">\n",
    "\n",
    "* Dashboard\n",
    "* Terminal"
   ]
  },
  {
   "cell_type": "markdown",
   "metadata": {},
   "source": [
    "* Working with the Scheduler (Slurm)"
   ]
  },
  {
   "cell_type": "code",
   "execution_count": null,
   "metadata": {
    "collapsed": false
   },
   "outputs": [],
   "source": [
    "%%bash\n",
    "squeue -p lr2"
   ]
  },
  {
   "cell_type": "code",
   "execution_count": null,
   "metadata": {
    "collapsed": false
   },
   "outputs": [],
   "source": [
    "%%bash\n",
    "srun -p lr2 --qos=lr_normal -A scs -t 5:0 hostname"
   ]
  },
  {
   "cell_type": "markdown",
   "metadata": {},
   "source": [
    "* IPython Cluster (IPython Parallel)"
   ]
  },
  {
   "cell_type": "code",
   "execution_count": null,
   "metadata": {
    "collapsed": false
   },
   "outputs": [],
   "source": [
    "import os\n",
    "import ipyparallel as ipp\n",
    "\n",
    "def compute(x):\n",
    "    return x*x\n",
    "\n",
    "rc = ipp.Client(profile='default', cluster_id='')\n",
    "ar = rc[:].apply_async(os.getpid)\n",
    "pid_map = ar.get_dict()\n",
    "print(pid_map)\n",
    "view = rc.load_balanced_view()\n",
    "\n",
    "a = range(1,10)\n",
    "view.map_sync(compute, a)"
   ]
  },
  {
   "cell_type": "markdown",
   "metadata": {},
   "source": [
    "## 5. Advanced Jupyter Notebook Topics\n",
    "\n",
    "* [Kernel](https://github.com/ipython/ipython/wiki/IPython-kernels-for-other-languages)\n",
    "* [Globus](https://www.globus.org/)\n",
    "* [Spark](http://spark.apache.org/)\n",
    "* Workflow"
   ]
  },
  {
   "cell_type": "markdown",
   "metadata": {},
   "source": [
    "## 6. More to Read\n",
    "\n",
    "* [Jupyter Notebook Tutorial](http://nbviewer.jupyter.org/github/ipython/ipython/blob/2.x/examples/Notebook/Index.ipynb)\n",
    "* [Jupyter Notebook Gallery](https://github.com/ipython/ipython/wiki/A-gallery-of-interesting-IPython-Notebooks)\n",
    "* [Reproducible Academic Publications (from above)](https://github.com/ipython/ipython/wiki/A-gallery-of-interesting-IPython-Notebooks#reproducible-academic-publications)\n",
    "* [Jupyter Notebook at O'Reilly](https://www.oreilly.com/ideas/jupyter-at-oreilly)\n",
    "* [Jupyter Notebook at Nature](http://www.nature.com/news/ipython-interactive-demo-7.21492)"
   ]
  }
 ],
 "metadata": {
  "kernelspec": {
   "display_name": "Python 3",
   "language": "python",
   "name": "python3"
  },
  "language_info": {
   "codemirror_mode": {
    "name": "ipython",
    "version": 3
   },
   "file_extension": ".py",
   "mimetype": "text/x-python",
   "name": "python",
   "nbconvert_exporter": "python",
   "pygments_lexer": "ipython3",
   "version": "3.5.1"
  }
 },
 "nbformat": 4,
 "nbformat_minor": 0
}
