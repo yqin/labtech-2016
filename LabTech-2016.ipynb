{
 "cells": [
  {
   "cell_type": "markdown",
   "metadata": {},
   "source": [
    "# <center>Jupyter on HPC</center>\n",
    "\n",
    "**<center>[Yong Qin, Ph.D.](mailto:yong.qin@lbl.gov)</center>**\n",
    "\n",
    "<center>High Performance Computing Services (HPCS)<br>Information Technology Division<br>Lawrence Berkeley National Laboratory</center>\n",
    "\n",
    "<center>LabTech - October 11, 2016 </center>\n",
    "\n",
    "![](IT_Lab_Logo.png =250x)\n",
    "<img src=\"https://raw.githubusercontent.com/jupyter/nature-demo/master/images/jupyter-logo.png\" width=\"250px\" style=\"margin: 20px auto;\">\n",
    "<img src=\"https://raw.githubusercontent.com/jupyter/nature-demo/master/images/ipython-logo.png\" width=\"250px\" style=\"margin: 20px auto;\">"
   ]
  },
  {
   "cell_type": "markdown",
   "metadata": {},
   "source": [
    "# Introduction"
   ]
  },
  {
   "cell_type": "markdown",
   "metadata": {},
   "source": [
    "I"
   ]
  }
 ],
 "metadata": {
  "kernelspec": {
   "display_name": "Python 2",
   "language": "python",
   "name": "python2"
  },
  "language_info": {
   "name": "python",
   "version": "2.7.8"
  }
 },
 "nbformat": 4,
 "nbformat_minor": 0
}
