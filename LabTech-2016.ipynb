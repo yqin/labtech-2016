{
 "cells": [
  {
   "cell_type": "markdown",
   "metadata": {},
   "source": [
    "# <center>Jupyter on HPC</center>\n",
    "\n",
    "**<center>[Yong Qin, Ph.D.](mailto:yong.qin@lbl.gov)</center>**\n",
    "\n",
    "<center>High Performance Computing Services (HPCS)<br>Information Technology Division<br>Lawrence Berkeley National Laboratory</center>\n",
    "\n",
    "<center>LabTech - October 11, 2016 </center>\n",
    "\n",
    "<img src=\"IT_Lab_Logo.png\" width=\"220px\">\n",
    "<img src=\"jupyter-logo.png\" width=\"250px\">\n",
    "<img src=\"ipython-logo.png\" width=\"250px\">"
   ]
  },
  {
   "cell_type": "markdown",
   "metadata": {},
   "source": [
    "## 1. On Demand Solutions\n",
    "\n",
    "<img src=\"OD_Architecture.png\" width=\"600px\"/>"
   ]
  },
  {
   "cell_type": "markdown",
   "metadata": {},
   "source": [
    "## 2. Jupyter Introduction\n",
    "\n",
    "\n",
    "\"Open source, interactive data science and scientific computing across over 40 programming languages.\"\n",
    "\n",
    "http://www.nature.com/news/ipython-interactive-demo-7.21492"
   ]
  },
  {
   "cell_type": "markdown",
   "metadata": {},
   "source": [
    "## 3. Jupyter Notebook Basics\n",
    "\n",
    "* Markdown\n",
    "\n",
    "* Math\n",
    "  + This expression $\\sqrt{3x-1}+(1+x)^2$ is an example of a TeX inline equation.\n",
    "  + This is a standalone example (Maxwell's equation).\n",
    "\\begin{align}\n",
    "\\nabla \\times \\vec{\\mathbf{B}} -\\, \\frac1c\\, \\frac{\\partial\\vec{\\mathbf{E}}}{\\partial t} & = \\frac{4\\pi}{c}\\vec{\\mathbf{j}} \\\\   \\nabla \\cdot \\vec{\\mathbf{E}} & = 4 \\pi \\rho \\\\\n",
    "\\nabla \\times \\vec{\\mathbf{E}}\\, +\\, \\frac1c\\, \\frac{\\partial\\vec{\\mathbf{B}}}{\\partial t} & = \\vec{\\mathbf{0}} \\\\\n",
    "\\nabla \\cdot \\vec{\\mathbf{B}} & = 0\n",
    "\\end{align}\n",
    "\n",
    "* Code\n",
    "        if (i=0; i<n; i++) {\n",
    "            printf(\"Hello World!\\n\");\n",
    "        }\n",
    "\n",
    "* Table\n",
    "<pre>\n",
    "\n",
    "| This | is   |\n",
    "|------|------|\n",
    "|   a  | table|\n",
    "\n",
    "</pre>\n",
    "\n",
    "* Image\n",
    "![](jupyter-logo.png)\n",
    "\n",
    "* Multimedia\n"
   ]
  },
  {
   "cell_type": "markdown",
   "metadata": {},
   "source": [
    "## 4. Jupyter Notebook + HPC\n",
    "\n",
    "* Magic\n",
    "* IPython Cluster (Parallel)\n",
    "* HPC"
   ]
  },
  {
   "cell_type": "markdown",
   "metadata": {},
   "source": [
    "## 5. Advanced Jupyter Notebook Topics\n",
    "\n",
    "* Kernel\n",
    "* Spark\n",
    "* Globus Online"
   ]
  }
 ],
 "metadata": {
  "kernelspec": {
   "display_name": "Python 2",
   "language": "python",
   "name": "python2"
  },
  "language_info": {
   "name": "python",
   "version": "2.7.8"
  }
 },
 "nbformat": 4,
 "nbformat_minor": 0
}
